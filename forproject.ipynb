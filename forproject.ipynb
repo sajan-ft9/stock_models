{
  "nbformat": 4,
  "nbformat_minor": 0,
  "metadata": {
    "colab": {
      "provenance": [],
      "authorship_tag": "ABX9TyOgjOO1LqtpjOEpNpGq+eau",
      "include_colab_link": true
    },
    "kernelspec": {
      "name": "python3",
      "display_name": "Python 3"
    },
    "language_info": {
      "name": "python"
    }
  },
  "cells": [
    {
      "cell_type": "markdown",
      "metadata": {
        "id": "view-in-github",
        "colab_type": "text"
      },
      "source": [
        "<a href=\"https://colab.research.google.com/github/sajan-ft9/stock_models/blob/main/forproject.ipynb\" target=\"_parent\"><img src=\"https://colab.research.google.com/assets/colab-badge.svg\" alt=\"Open In Colab\"/></a>"
      ]
    },
    {
      "cell_type": "code",
      "execution_count": 108,
      "metadata": {
        "id": "SJ91mDC0yCRf"
      },
      "outputs": [],
      "source": [
        "import pandas as pd\n",
        "import numpy as np\n",
        "from sklearn.preprocessing import MinMaxScaler\n",
        "from tensorflow.keras.models import Sequential\n",
        "from tensorflow.keras.layers import LSTM, Dense, Dropout"
      ]
    },
    {
      "cell_type": "code",
      "source": [
        "# Read the CSV file\n",
        "df = pd.read_csv('gbime.csv')\n",
        "\n",
        "# Convert the Date column to a datetime object\n",
        "df['Date'] = pd.to_datetime(df['Date'])\n",
        "\n",
        "# Sort the dataframe by date\n",
        "df = df.sort_values('Date')\n",
        "\n",
        "# Convert '--' to 0 in the 'Percent Change' column\n",
        "df['Percent Change'] = df['Percent Change'].replace('--', 0)\n",
        "\n",
        "# Convert columns to float\n",
        "df['Open'] = df['Open'].astype(float)\n",
        "df['High'] = df['High'].astype(float)\n",
        "df['Low'] = df['Low'].astype(float)\n",
        "df['Close'] = df['Close'].astype(float)\n",
        "df['Percent Change'] = df['Percent Change'].astype(float)\n",
        "\n",
        "# Extract the 'Close' column for prediction\n",
        "data = df['Close'].values.reshape(-1, 1)\n",
        "\n",
        "# Scale the data using Min-Max Scaler\n",
        "scaler = MinMaxScaler(feature_range=(0, 1))\n",
        "scaled_data = scaler.fit_transform(data)\n"
      ],
      "metadata": {
        "id": "Qzwg4kxnyCRh"
      },
      "execution_count": 109,
      "outputs": []
    },
    {
      "cell_type": "code",
      "source": [
        "# Define the training and testing data sizes\n",
        "train_size = int(len(scaled_data) * 0.8)\n",
        "test_size = len(scaled_data) - train_size\n",
        "\n",
        "# Split the data into training and testing sets\n",
        "train_data = scaled_data[:train_size, :]\n",
        "test_data = scaled_data[train_size:, :]\n"
      ],
      "metadata": {
        "id": "tYkR2mPKyCRi"
      },
      "execution_count": 110,
      "outputs": []
    },
    {
      "cell_type": "code",
      "source": [
        "def prepare_data(data, time_steps):\n",
        "    X, y = [], []\n",
        "    for i in range(len(data) - time_steps - 7):\n",
        "        X.append(data[i:i + time_steps, 0])\n",
        "        y.append(data[i + time_steps:i + time_steps + 7, 0])\n",
        "    return np.array(X), np.array(y)\n",
        "\n",
        "# Define the number of time steps\n",
        "time_steps = 7\n",
        "\n",
        "# Prepare the training data\n",
        "X_train, y_train = prepare_data(train_data, time_steps)\n",
        "\n",
        "# Prepare the testing data\n",
        "X_test, y_test = prepare_data(test_data, time_steps)\n",
        "\n",
        "# Reshape the data for LSTM (samples, time_steps, features)\n",
        "X_train = np.reshape(X_train, (X_train.shape[0], X_train.shape[1], 1))\n",
        "X_test = np.reshape(X_test, (X_test.shape[0], X_test.shape[1], 1))\n"
      ],
      "metadata": {
        "id": "YuD5Rvr5igc_"
      },
      "execution_count": 111,
      "outputs": []
    },
    {
      "cell_type": "code",
      "source": [
        "model = Sequential()\n",
        "model.add(LSTM(units=100, return_sequences=True, input_shape=(time_steps, 1)))\n",
        "model.add(Dropout(0.2))\n",
        "model.add(LSTM(units=100, return_sequences=True))\n",
        "model.add(Dropout(0.2))\n",
        "model.add(LSTM(units=100))\n",
        "model.add(Dense(units=7))  # Output layer with 7 units for predicting 7 days ahead\n",
        "model.compile(optimizer='adam', loss='mean_squared_error')\n"
      ],
      "metadata": {
        "id": "w3xJpM8ayCRj"
      },
      "execution_count": 112,
      "outputs": []
    },
    {
      "cell_type": "code",
      "source": [
        "model.fit(X_train, y_train, epochs=100, batch_size=32)\n"
      ],
      "metadata": {
        "colab": {
          "base_uri": "https://localhost:8080/"
        },
        "outputId": "4b99db60-6727-49ea-d5f4-6358a70d78dd",
        "id": "d-9tC0WEyCRk"
      },
      "execution_count": 113,
      "outputs": [
        {
          "output_type": "stream",
          "name": "stdout",
          "text": [
            "Epoch 1/100\n",
            "46/46 [==============================] - 7s 23ms/step - loss: 0.0361\n",
            "Epoch 2/100\n",
            "46/46 [==============================] - 1s 22ms/step - loss: 0.0029\n",
            "Epoch 3/100\n",
            "46/46 [==============================] - 1s 22ms/step - loss: 0.0028\n",
            "Epoch 4/100\n",
            "46/46 [==============================] - 2s 38ms/step - loss: 0.0028\n",
            "Epoch 5/100\n",
            "46/46 [==============================] - 2s 35ms/step - loss: 0.0027\n",
            "Epoch 6/100\n",
            "46/46 [==============================] - 1s 23ms/step - loss: 0.0027\n",
            "Epoch 7/100\n",
            "46/46 [==============================] - 1s 23ms/step - loss: 0.0027\n",
            "Epoch 8/100\n",
            "46/46 [==============================] - 1s 23ms/step - loss: 0.0025\n",
            "Epoch 9/100\n",
            "46/46 [==============================] - 1s 23ms/step - loss: 0.0027\n",
            "Epoch 10/100\n",
            "46/46 [==============================] - 1s 23ms/step - loss: 0.0027\n",
            "Epoch 11/100\n",
            "46/46 [==============================] - 1s 22ms/step - loss: 0.0027\n",
            "Epoch 12/100\n",
            "46/46 [==============================] - 1s 22ms/step - loss: 0.0025\n",
            "Epoch 13/100\n",
            "46/46 [==============================] - 1s 23ms/step - loss: 0.0025\n",
            "Epoch 14/100\n",
            "46/46 [==============================] - 1s 24ms/step - loss: 0.0025\n",
            "Epoch 15/100\n",
            "46/46 [==============================] - 2s 38ms/step - loss: 0.0026\n",
            "Epoch 16/100\n",
            "46/46 [==============================] - 1s 32ms/step - loss: 0.0024\n",
            "Epoch 17/100\n",
            "46/46 [==============================] - 1s 24ms/step - loss: 0.0023\n",
            "Epoch 18/100\n",
            "46/46 [==============================] - 1s 23ms/step - loss: 0.0024\n",
            "Epoch 19/100\n",
            "46/46 [==============================] - 1s 23ms/step - loss: 0.0026\n",
            "Epoch 20/100\n",
            "46/46 [==============================] - 1s 23ms/step - loss: 0.0024\n",
            "Epoch 21/100\n",
            "46/46 [==============================] - 1s 23ms/step - loss: 0.0024\n",
            "Epoch 22/100\n",
            "46/46 [==============================] - 1s 23ms/step - loss: 0.0023\n",
            "Epoch 23/100\n",
            "46/46 [==============================] - 1s 24ms/step - loss: 0.0022\n",
            "Epoch 24/100\n",
            "46/46 [==============================] - 1s 24ms/step - loss: 0.0022\n",
            "Epoch 25/100\n",
            "46/46 [==============================] - 1s 25ms/step - loss: 0.0022\n",
            "Epoch 26/100\n",
            "46/46 [==============================] - 2s 38ms/step - loss: 0.0022\n",
            "Epoch 27/100\n",
            "46/46 [==============================] - 1s 30ms/step - loss: 0.0021\n",
            "Epoch 28/100\n",
            "46/46 [==============================] - 1s 23ms/step - loss: 0.0020\n",
            "Epoch 29/100\n",
            "46/46 [==============================] - 1s 24ms/step - loss: 0.0022\n",
            "Epoch 30/100\n",
            "46/46 [==============================] - 1s 23ms/step - loss: 0.0021\n",
            "Epoch 31/100\n",
            "46/46 [==============================] - 1s 24ms/step - loss: 0.0023\n",
            "Epoch 32/100\n",
            "46/46 [==============================] - 1s 25ms/step - loss: 0.0020\n",
            "Epoch 33/100\n",
            "46/46 [==============================] - 1s 23ms/step - loss: 0.0022\n",
            "Epoch 34/100\n",
            "46/46 [==============================] - 1s 24ms/step - loss: 0.0020\n",
            "Epoch 35/100\n",
            "46/46 [==============================] - 1s 24ms/step - loss: 0.0020\n",
            "Epoch 36/100\n",
            "46/46 [==============================] - 1s 31ms/step - loss: 0.0019\n",
            "Epoch 37/100\n",
            "46/46 [==============================] - 2s 38ms/step - loss: 0.0019\n",
            "Epoch 38/100\n",
            "46/46 [==============================] - 1s 25ms/step - loss: 0.0020\n",
            "Epoch 39/100\n",
            "46/46 [==============================] - 1s 24ms/step - loss: 0.0020\n",
            "Epoch 40/100\n",
            "46/46 [==============================] - 1s 24ms/step - loss: 0.0020\n",
            "Epoch 41/100\n",
            "46/46 [==============================] - 1s 24ms/step - loss: 0.0018\n",
            "Epoch 42/100\n",
            "46/46 [==============================] - 1s 24ms/step - loss: 0.0018\n",
            "Epoch 43/100\n",
            "46/46 [==============================] - 1s 23ms/step - loss: 0.0018\n",
            "Epoch 44/100\n",
            "46/46 [==============================] - 1s 24ms/step - loss: 0.0018\n",
            "Epoch 45/100\n",
            "46/46 [==============================] - 1s 24ms/step - loss: 0.0020\n",
            "Epoch 46/100\n",
            "46/46 [==============================] - 1s 25ms/step - loss: 0.0018\n",
            "Epoch 47/100\n",
            "46/46 [==============================] - 2s 40ms/step - loss: 0.0016\n",
            "Epoch 48/100\n",
            "46/46 [==============================] - 2s 34ms/step - loss: 0.0017\n",
            "Epoch 49/100\n",
            "46/46 [==============================] - 1s 26ms/step - loss: 0.0019\n",
            "Epoch 50/100\n",
            "46/46 [==============================] - 1s 22ms/step - loss: 0.0018\n",
            "Epoch 51/100\n",
            "46/46 [==============================] - 1s 23ms/step - loss: 0.0017\n",
            "Epoch 52/100\n",
            "46/46 [==============================] - 1s 22ms/step - loss: 0.0016\n",
            "Epoch 53/100\n",
            "46/46 [==============================] - 1s 23ms/step - loss: 0.0016\n",
            "Epoch 54/100\n",
            "46/46 [==============================] - 1s 23ms/step - loss: 0.0017\n",
            "Epoch 55/100\n",
            "46/46 [==============================] - 1s 22ms/step - loss: 0.0016\n",
            "Epoch 56/100\n",
            "46/46 [==============================] - 1s 23ms/step - loss: 0.0017\n",
            "Epoch 57/100\n",
            "46/46 [==============================] - 1s 26ms/step - loss: 0.0016\n",
            "Epoch 58/100\n",
            "46/46 [==============================] - 2s 41ms/step - loss: 0.0016\n",
            "Epoch 59/100\n",
            "46/46 [==============================] - 1s 28ms/step - loss: 0.0017\n",
            "Epoch 60/100\n",
            "46/46 [==============================] - 1s 24ms/step - loss: 0.0016\n",
            "Epoch 61/100\n",
            "46/46 [==============================] - 1s 24ms/step - loss: 0.0018\n",
            "Epoch 62/100\n",
            "46/46 [==============================] - 1s 24ms/step - loss: 0.0016\n",
            "Epoch 63/100\n",
            "46/46 [==============================] - 1s 23ms/step - loss: 0.0017\n",
            "Epoch 64/100\n",
            "46/46 [==============================] - 1s 23ms/step - loss: 0.0016\n",
            "Epoch 65/100\n",
            "46/46 [==============================] - 1s 24ms/step - loss: 0.0016\n",
            "Epoch 66/100\n",
            "46/46 [==============================] - 1s 24ms/step - loss: 0.0015\n",
            "Epoch 67/100\n",
            "46/46 [==============================] - 1s 24ms/step - loss: 0.0015\n",
            "Epoch 68/100\n",
            "46/46 [==============================] - 1s 31ms/step - loss: 0.0015\n",
            "Epoch 69/100\n",
            "46/46 [==============================] - 2s 38ms/step - loss: 0.0016\n",
            "Epoch 70/100\n",
            "46/46 [==============================] - 1s 24ms/step - loss: 0.0015\n",
            "Epoch 71/100\n",
            "46/46 [==============================] - 1s 23ms/step - loss: 0.0016\n",
            "Epoch 72/100\n",
            "46/46 [==============================] - 1s 24ms/step - loss: 0.0016\n",
            "Epoch 73/100\n",
            "46/46 [==============================] - 1s 24ms/step - loss: 0.0015\n",
            "Epoch 74/100\n",
            "46/46 [==============================] - 1s 23ms/step - loss: 0.0016\n",
            "Epoch 75/100\n",
            "46/46 [==============================] - 1s 24ms/step - loss: 0.0016\n",
            "Epoch 76/100\n",
            "46/46 [==============================] - 1s 23ms/step - loss: 0.0015\n",
            "Epoch 77/100\n",
            "46/46 [==============================] - 1s 23ms/step - loss: 0.0015\n",
            "Epoch 78/100\n",
            "46/46 [==============================] - 1s 23ms/step - loss: 0.0015\n",
            "Epoch 79/100\n",
            "46/46 [==============================] - 2s 33ms/step - loss: 0.0015\n",
            "Epoch 80/100\n",
            "46/46 [==============================] - 2s 39ms/step - loss: 0.0015\n",
            "Epoch 81/100\n",
            "46/46 [==============================] - 1s 23ms/step - loss: 0.0015\n",
            "Epoch 82/100\n",
            "46/46 [==============================] - 1s 23ms/step - loss: 0.0015\n",
            "Epoch 83/100\n",
            "46/46 [==============================] - 1s 23ms/step - loss: 0.0016\n",
            "Epoch 84/100\n",
            "46/46 [==============================] - 1s 22ms/step - loss: 0.0016\n",
            "Epoch 85/100\n",
            "46/46 [==============================] - 1s 22ms/step - loss: 0.0015\n",
            "Epoch 86/100\n",
            "46/46 [==============================] - 1s 24ms/step - loss: 0.0015\n",
            "Epoch 87/100\n",
            "46/46 [==============================] - 1s 23ms/step - loss: 0.0015\n",
            "Epoch 88/100\n",
            "46/46 [==============================] - 1s 24ms/step - loss: 0.0016\n",
            "Epoch 89/100\n",
            "46/46 [==============================] - 1s 23ms/step - loss: 0.0015\n",
            "Epoch 90/100\n",
            "46/46 [==============================] - 2s 35ms/step - loss: 0.0014\n",
            "Epoch 91/100\n",
            "46/46 [==============================] - 2s 37ms/step - loss: 0.0015\n",
            "Epoch 92/100\n",
            "46/46 [==============================] - 1s 23ms/step - loss: 0.0014\n",
            "Epoch 93/100\n",
            "46/46 [==============================] - 1s 24ms/step - loss: 0.0016\n",
            "Epoch 94/100\n",
            "46/46 [==============================] - 1s 23ms/step - loss: 0.0014\n",
            "Epoch 95/100\n",
            "46/46 [==============================] - 1s 24ms/step - loss: 0.0014\n",
            "Epoch 96/100\n",
            "46/46 [==============================] - 1s 23ms/step - loss: 0.0014\n",
            "Epoch 97/100\n",
            "46/46 [==============================] - 1s 23ms/step - loss: 0.0015\n",
            "Epoch 98/100\n",
            "46/46 [==============================] - 1s 23ms/step - loss: 0.0015\n",
            "Epoch 99/100\n",
            "46/46 [==============================] - 1s 25ms/step - loss: 0.0014\n",
            "Epoch 100/100\n",
            "46/46 [==============================] - 1s 24ms/step - loss: 0.0014\n"
          ]
        },
        {
          "output_type": "execute_result",
          "data": {
            "text/plain": [
              "<keras.callbacks.History at 0x7f5751990670>"
            ]
          },
          "metadata": {},
          "execution_count": 113
        }
      ]
    },
    {
      "cell_type": "code",
      "source": [
        "last_week_data = scaled_data[-time_steps:, :]\n",
        "last_week_data = np.reshape(last_week_data, (1, time_steps, 1))\n",
        "predictions = model.predict(last_week_data)\n",
        "predictions = scaler.inverse_transform(predictions)\n",
        "predicted_close_prices = predictions[0]\n"
      ],
      "metadata": {
        "colab": {
          "base_uri": "https://localhost:8080/"
        },
        "outputId": "bbd41811-631a-4e1b-d6c7-19d447c32830",
        "id": "_K_7yEAEyCRm"
      },
      "execution_count": 114,
      "outputs": [
        {
          "output_type": "stream",
          "name": "stdout",
          "text": [
            "1/1 [==============================] - 1s 1s/step\n"
          ]
        }
      ]
    },
    {
      "cell_type": "code",
      "source": [
        "last_date = df['Date'].iloc[-1]\n",
        "forecast_dates = pd.date_range(start=last_date + pd.DateOffset(days=1), periods=7, freq='D')\n",
        "df_predictions = pd.DataFrame({'Predicted Close Price': predicted_close_prices.flatten(), 'Date': forecast_dates})\n"
      ],
      "metadata": {
        "id": "Z8KbLu3xyCRn"
      },
      "execution_count": 115,
      "outputs": []
    },
    {
      "cell_type": "code",
      "source": [
        "print(df_predictions)"
      ],
      "metadata": {
        "colab": {
          "base_uri": "https://localhost:8080/"
        },
        "outputId": "3d753a8a-7cb8-42d6-9b54-be5c347018d6",
        "id": "jYgRTbm0yCRo"
      },
      "execution_count": 116,
      "outputs": [
        {
          "output_type": "stream",
          "name": "stdout",
          "text": [
            "   Predicted Close Price       Date\n",
            "0             191.227142 2023-05-31\n",
            "1             189.126434 2023-06-01\n",
            "2             188.159958 2023-06-02\n",
            "3             186.062531 2023-06-03\n",
            "4             186.316696 2023-06-04\n",
            "5             187.010513 2023-06-05\n",
            "6             186.649826 2023-06-06\n"
          ]
        }
      ]
    },
    {
      "cell_type": "code",
      "source": [],
      "metadata": {
        "id": "hrmmZcqA4zbZ"
      },
      "execution_count": 116,
      "outputs": []
    }
  ]
}